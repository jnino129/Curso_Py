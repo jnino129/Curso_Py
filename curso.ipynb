{
 "cells": [
  {
   "cell_type": "markdown",
   "metadata": {},
   "source": [
    "Condicional iF\n",
    "\n",
    "No es más que una condición que contiene uno o más instrucciones que debendiendo de la condición va ejecutando una u otra."
   ]
  },
  {
   "cell_type": "code",
   "execution_count": 1,
   "metadata": {},
   "outputs": [
    {
     "name": "stdout",
     "output_type": "stream",
     "text": [
      "programa de evaluación de notas alumnos\n",
      "desaprobado\n"
     ]
    }
   ],
   "source": [
    "print(\"programa de evaluación de notas alumnos\")\n",
    "nota_alumno = input(\"introduce la nota del alumno: \")\n",
    "\n",
    "def evaluación(nota):\n",
    "    valoración=\"aprobado\"\n",
    "    if nota<5:\n",
    "        valoración=\"desaprobado\"\n",
    "    return valoración\n",
    "\n",
    "print(evaluación(int(nota_alumno)))"
   ]
  },
  {
   "cell_type": "markdown",
   "metadata": {},
   "source": [
    "Practica IF - Else"
   ]
  },
  {
   "cell_type": "code",
   "execution_count": 1,
   "metadata": {},
   "outputs": [
    {
     "name": "stdout",
     "output_type": "stream",
     "text": [
      "verificación de acceso\n",
      "no puedes pasar\n"
     ]
    }
   ],
   "source": [
    "print(\"verificación de acceso\")\n",
    "edad_usuario=int(input(\"introduce tu edad: \"))\n",
    "\n",
    "if edad_usuario<18:\n",
    "    print(\"no puedes pasar\")\n",
    "else:\n",
    "    print(\"puedes pasar\")"
   ]
  },
  {
   "cell_type": "code",
   "execution_count": 2,
   "metadata": {},
   "outputs": [
    {
     "name": "stdout",
     "output_type": "stream",
     "text": [
      "verificación de alumno\n",
      "notable\n"
     ]
    }
   ],
   "source": [
    "print(\"verificación de alumno\")\n",
    "nota_alumno=int(input(\"introduce tu nota: \"))\n",
    "\n",
    "if nota_alumno<5:\n",
    "    print(\"insuficiente\")\n",
    "elif nota_alumno<6:\n",
    "    print(\"suficiente\")\n",
    "elif nota_alumno<7:\n",
    "    print(\"bien\")\n",
    "elif nota_alumno<9:\n",
    "    print(\"notable\")\n",
    "else:\n",
    "    print(\"sobresaliente\")"
   ]
  },
  {
   "cell_type": "markdown",
   "metadata": {},
   "source": [
    "Otros condicionales\n",
    "- Concanetación de operadores de comparación\n",
    "- Operadores logicos and y or\n",
    "- Operador in"
   ]
  },
  {
   "cell_type": "code",
   "execution_count": 7,
   "metadata": {},
   "outputs": [
    {
     "name": "stdout",
     "output_type": "stream",
     "text": [
      "Edad es correcta\n"
     ]
    }
   ],
   "source": [
    "edad=int(input(\"¿Cual es tu edad? \"))\n",
    "\n",
    "if 0<edad<100:\n",
    "    print(\"Edad es correcta\")\n",
    "else:\n",
    "    print(\"Edad incorrecta\")"
   ]
  },
  {
   "cell_type": "code",
   "execution_count": 1,
   "metadata": {},
   "outputs": [
    {
     "name": "stdout",
     "output_type": "stream",
     "text": [
      "salario de presidente:  4000\n",
      "salario de Director:  3000\n",
      "salario de Jefe de Area:  2000\n",
      "salario de presidente:  2000\n",
      "Algo esta fallando en la organización\n"
     ]
    }
   ],
   "source": [
    "#vamos a evaluar los salarios de una compañia \n",
    "salario_presidente=int(input(\"introduce el salario del presidente: \"))\n",
    "print(\"salario de presidente: \", salario_presidente)\n",
    "\n",
    "salario_director=int(input(\"introduce el salario del Director: \"))\n",
    "print(\"salario de Director: \", salario_director)\n",
    "\n",
    "salario_Jefe_Area=int(input(\"introduce el salario del Jefe de Area: \"))\n",
    "print(\"salario de Jefe de Area: \", salario_Jefe_Area)\n",
    "\n",
    "salario_Administrativo=int(input(\"introduce el salario del Administrativo: \"))\n",
    "print(\"salario de presidente: \", salario_Administrativo)\n",
    "\n",
    "if salario_Administrativo<salario_Jefe_Area<salario_director<salario_presidente:\n",
    "    print(\"Todo funciona Correctamente\")\n",
    "else:\n",
    "    print(\"Algo esta fallando en la organización\")\n"
   ]
  },
  {
   "cell_type": "code",
   "execution_count": 2,
   "metadata": {},
   "outputs": [
    {
     "name": "stdout",
     "output_type": "stream",
     "text": [
      "programas de becas año 2017\n",
      "70 km\n",
      "tiene  5  hermanos\n",
      "el salario familar anual es:  10000\n",
      "tiene derecho de beca\n"
     ]
    }
   ],
   "source": [
    "#subsidos y becas para estudiantes. Criterios de evaluación: Distancia>40km, numero de heramnos>2, salario familiar<=20000\n",
    "print(\"programas de becas año 2017\")\n",
    "disntancia_escuela=int(input(\"introduce la distancia de la escuela: \"))\n",
    "print(disntancia_escuela, \"km\")\n",
    "\n",
    "numero_hermanos=int(input(\"intorduce el numero de hermanos: \"))\n",
    "print(\"tiene \", numero_hermanos,\" hermanos\")\n",
    "\n",
    "Salario_Anual_Familiar=int(input(\"introduce el salario familiar anual: \"))\n",
    "print(\"el salario familar anual es: \",Salario_Anual_Familiar)\n",
    "\n",
    "if disntancia_escuela>40 and numero_hermanos>2 and Salario_Anual_Familiar<=20000:\n",
    "    print(\"tiene derecho de beca\")\n",
    "else:\n",
    "    print(\"no tiene derecho a beca\")\n",
    "    "
   ]
  }
 ],
 "metadata": {
  "kernelspec": {
   "display_name": "Python 3",
   "language": "python",
   "name": "python3"
  },
  "language_info": {
   "codemirror_mode": {
    "name": "ipython",
    "version": 3
   },
   "file_extension": ".py",
   "mimetype": "text/x-python",
   "name": "python",
   "nbconvert_exporter": "python",
   "pygments_lexer": "ipython3",
   "version": "3.10.8"
  },
  "orig_nbformat": 4
 },
 "nbformat": 4,
 "nbformat_minor": 2
}
