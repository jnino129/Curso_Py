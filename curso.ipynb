{
 "cells": [
  {
   "cell_type": "markdown",
   "metadata": {},
   "source": [
    "Condicional iF\n",
    "\n",
    "No es más que una condición que contiene uno o más instrucciones que debendiendo de la condición va ejecutando una u otra."
   ]
  },
  {
   "cell_type": "code",
   "execution_count": 8,
   "metadata": {},
   "outputs": [
    {
     "name": "stdout",
     "output_type": "stream",
     "text": [
      "programa de evaluación de notas alumnos\n",
      "desaprobado\n"
     ]
    }
   ],
   "source": [
    "print(\"programa de evaluación de notas alumnos\")\n",
    "nota_alumno = input(\"introduce la nota del alumno: \")\n",
    "\n",
    "def evaluación(nota):\n",
    "    valoración=\"aprobado\"\n",
    "    if nota<5:\n",
    "        valoración=\"desaprobado\"\n",
    "    return valoración\n",
    "\n",
    "print(evaluación(int(nota_alumno)))"
   ]
  },
  {
   "cell_type": "markdown",
   "metadata": {},
   "source": [
    "Practica IF - Else"
   ]
  },
  {
   "cell_type": "code",
   "execution_count": 1,
   "metadata": {},
   "outputs": [
    {
     "name": "stdout",
     "output_type": "stream",
     "text": [
      "verificación de acceso\n",
      "no puedes pasar\n"
     ]
    }
   ],
   "source": [
    "print(\"verificación de acceso\")\n",
    "edad_usuario=int(input(\"introduce tu edad: \"))\n",
    "\n",
    "if edad_usuario<18:\n",
    "    print(\"no puedes pasar\")\n",
    "else:\n",
    "    print(\"puedes pasar\")"
   ]
  },
  {
   "cell_type": "code",
   "execution_count": 2,
   "metadata": {},
   "outputs": [
    {
     "name": "stdout",
     "output_type": "stream",
     "text": [
      "verificación de alumno\n",
      "sobresaliente\n"
     ]
    }
   ],
   "source": [
    "print(\"verificación de alumno\")\n",
    "nota_alumno=int(input(\"introduce tu nota: \"))\n",
    "\n",
    "if nota_alumno<5:\n",
    "    print(\"insuficiente\")\n",
    "elif nota_alumno<6:\n",
    "    print(\"suficiente\")\n",
    "elif nota_alumno<7:\n",
    "    print(\"bien\")\n",
    "elif nota_alumno<9:\n",
    "    print(\"notable\")\n",
    "else:\n",
    "    print(\"sobresaliente\")"
   ]
  }
 ],
 "metadata": {
  "kernelspec": {
   "display_name": "Python 3",
   "language": "python",
   "name": "python3"
  },
  "language_info": {
   "codemirror_mode": {
    "name": "ipython",
    "version": 3
   },
   "file_extension": ".py",
   "mimetype": "text/x-python",
   "name": "python",
   "nbconvert_exporter": "python",
   "pygments_lexer": "ipython3",
   "version": "3.10.8"
  },
  "orig_nbformat": 4
 },
 "nbformat": 4,
 "nbformat_minor": 2
}
